{
  "cells": [
    {
      "cell_type": "markdown",
      "metadata": {
        "id": "view-in-github",
        "colab_type": "text"
      },
      "source": [
        "<a href=\"https://colab.research.google.com/github/JohnKundrat/ThirdPojectv2/blob/main/project3.ipynb\" target=\"_parent\"><img src=\"https://colab.research.google.com/assets/colab-badge.svg\" alt=\"Open In Colab\"/></a>"
      ]
    },
    {
      "cell_type": "code",
      "execution_count": null,
      "metadata": {
        "colab": {
          "base_uri": "https://localhost:8080/"
        },
        "id": "q4TwdVqJaNuU",
        "outputId": "77fc3b21-cfef-4c1d-d4cc-a7514c4302fb"
      },
      "outputs": [
        {
          "output_type": "stream",
          "name": "stdout",
          "text": [
            "\n",
            " ('-. .-.           .-')    .-') _                _  .-')                          .-')                            .-') _\n",
            "( OO )  /          ( OO ). (  OO) )              ( \\( -O )                       .(  OO)                          (  OO) )\n",
            ",--. ,--.  ,-.-') (_)---\\_)/     '._  .-'),-----. ,------.   ,--.   ,--.        (_)---\\_)   ,--. ,--.    ,-.-') ,(_)----.\n",
            "|  | |  |  |  |OO)/    _ | |'--...__)( OO'  .-.  '|   /`. '   \\  `.'  /         '  .-.  '   |  | |  |    |  |OO)|       |\n",
            "|   .|  |  |  |  \\\\  :` `. '--.  .--'/   |  | |  ||  /  | | .-')     /         ,|  | |  |   |  | | .-')  |  |  \\'--.   /\n",
            "|       |  |  |(_/ '..`''.)   |  |   \\_) |  |\\|  ||  |_.' |(OO  \\   /         (_|  | |  |   |  |_|( OO ) |  |(_/(_/   /\n",
            "|  .-.  | ,|  |_.'.-._)   \\   |  |     \\ |  | |  ||  .  '.' |   /  /\\_          |  | |  |   |  | | `-' /,|  |_.' /   /___\n",
            "|  | |  |(_|  |   \\       /   |  |      `'  '-'  '|  |\\  \\  `-./  /.__)         '  '-'  '-.('  '-'(_.-'(_|  |   |        |\n",
            "`--' `--'  `--'    `-----'    `--'        `-----' `--' '--'   `--'               `-----'--'  `-----'     `--'   `--------'\n",
            "\n",
            "\n",
            "\n",
            "\n",
            "Welcome to Quiz time! You will answer a few True or False Questions. Please ONLY enter the letter T or F when it's your turn to answer. Have fun!\n",
            "[1] The Declaration of Independence was signed in 1776.\n",
            "Enter 'T' for True or 'F' for False: T\n",
            "[2] Abraham Lincoln was the 16th President of the United States.\n",
            "Enter 'T' for True or 'F' for False: F\n",
            "[3] The United States fought in World War I between 1914 and 1918.\n",
            "Enter 'T' for True or 'F' for False: f\n",
            "[4] The first successful airplane flight was achieved by Thomas Edison.\n",
            "Enter 'T' for True or 'F' for False: h\n",
            "[4] The first successful airplane flight was achieved by Thomas Edison.\n",
            "Enter 'T' for True or 'F' for False: T\n",
            "[5] The U.S. Constitution was ratified in 1787.\n",
            "Enter 'T' for True or 'F' for False: ji\n",
            "[5] The U.S. Constitution was ratified in 1787.\n",
            "Enter 'T' for True or 'F' for False: 5\n",
            "[5] The U.S. Constitution was ratified in 1787.\n",
            "Enter 'T' for True or 'F' for False: T\n",
            "[6] The Civil War in the United States ended in 1865.\n",
            "Enter 'T' for True or 'F' for False: T\n",
            "[7] Benjamin Franklin was one of the signers of the U.S. Constitution.\n",
            "Enter 'T' for True or 'F' for False: T\n",
            "[8] The first permanent English colony in America was Plymouth, founded in 1607.\n",
            "Enter 'T' for True or 'F' for False: F\n",
            "[9] The Boston Tea Party occurred in 1773 as a protest against British taxation.\n",
            "Enter 'T' for True or 'F' for False: T\n",
            "[10] The United States purchased the Louisiana Territory from France in 1803.\n",
            "Enter 'T' for True or 'F' for False: F\n",
            "\n",
            "Quiz Complete, you answered 6 questions correctly!\n"
          ]
        }
      ],
      "source": [
        "#Show the Fun History Quiz Game title Title\n",
        "print(r\"\"\"\n",
        " ('-. .-.           .-')    .-') _                _  .-')                          .-')                            .-') _\n",
        "( OO )  /          ( OO ). (  OO) )              ( \\( -O )                       .(  OO)                          (  OO) )\n",
        ",--. ,--.  ,-.-') (_)---\\_)/     '._  .-'),-----. ,------.   ,--.   ,--.        (_)---\\_)   ,--. ,--.    ,-.-') ,(_)----.\n",
        "|  | |  |  |  |OO)/    _ | |'--...__)( OO'  .-.  '|   /`. '   \\  `.'  /         '  .-.  '   |  | |  |    |  |OO)|       |\n",
        "|   .|  |  |  |  \\\\  :` `. '--.  .--'/   |  | |  ||  /  | | .-')     /         ,|  | |  |   |  | | .-')  |  |  \\'--.   /\n",
        "|       |  |  |(_/ '..`''.)   |  |   \\_) |  |\\|  ||  |_.' |(OO  \\   /         (_|  | |  |   |  |_|( OO ) |  |(_/(_/   /\n",
        "|  .-.  | ,|  |_.'.-._)   \\   |  |     \\ |  | |  ||  .  '.' |   /  /\\_          |  | |  |   |  | | `-' /,|  |_.' /   /___\n",
        "|  | |  |(_|  |   \\       /   |  |      `'  '-'  '|  |\\  \\  `-./  /.__)         '  '-'  '-.('  '-'(_.-'(_|  |   |        |\n",
        "`--' `--'  `--'    `-----'    `--'        `-----' `--' '--'   `--'               `-----'--'  `-----'     `--'   `--------'\n",
        "\n",
        "\n",
        "\n",
        "\"\"\")\n",
        "\n",
        "#Create list of questions that will user will be prompted with in the Quiz Game.\n",
        "\n",
        "\n",
        "\n",
        "questions = (\"The Declaration of Independence was signed in 1776.\",\n",
        "             \"Abraham Lincoln was the 16th President of the United States.\",\n",
        "            \"The United States fought in World War I between 1914 and 1918.\",\n",
        "            \"The first successful airplane flight was achieved by Thomas Edison.\",\n",
        "            \"The U.S. Constitution was ratified in 1787.\",\n",
        "            \"The Civil War in the United States ended in 1865.\",\n",
        "            \"Benjamin Franklin was one of the signers of the U.S. Constitution.\",\n",
        "            \"The first permanent English colony in America was Plymouth, founded in 1607.\",\n",
        "            \"The Boston Tea Party occurred in 1773 as a protest against British taxation.\",\n",
        "            \"The United States purchased the Louisiana Territory from France in 1803.\",)\n",
        "\n",
        "\n",
        "#Internal/back-end list of Answers to questions.\n",
        "\n",
        "correctAnswer = (\"T\", \"T\", \"F\" , \"F\", \"F\", \"T\", \"T\", \"F\", \"T\", \"T\")\n",
        "\n",
        "#set question iteration counter to 0, set user's game score to 0)\n",
        "score = 0\n",
        "i = 0\n",
        "\n",
        "#Prompt user with Quiz Game.\n",
        "print(\"Welcome to Quiz time! You will answer a few True or False Questions. Please ONLY enter the letter T or F when it's your turn to answer. Have fun!\")\n",
        "\n",
        "\n",
        "#Run main game loop\n",
        "\n",
        "while i < 10:\n",
        "\n",
        "    #Prompt question to user\n",
        "    print(f\"[{i+1}] {questions[i]}\")\n",
        "\n",
        "    #Get user Answer\n",
        "    answer = input(\"Enter 'T' for True or 'F' for False: \")\n",
        "    answer = answer.upper()\n",
        "\n",
        "    #check if viable answer of 'T' or 'F' and if not, continue loop in current iteration\n",
        "    if answer != \"T\" and answer != \"F\":\n",
        "      continue\n",
        "\n",
        "    #If viable answer in principle, check if correct Answer and if so, add 1 point to user's score, and increment to next iteration of game loop (i.e. next question)\n",
        "    if answer == correctAnswer[i]:\n",
        "      score += 1\n",
        "      i += 1\n",
        "\n",
        "    #if answer was not correct, move on to next question without increasing user's score.\n",
        "    else:\n",
        "      i += 1\n",
        "\n",
        "#End of loop - display Answer to User.\n",
        "print(\"\")\n",
        "print(f\"Quiz Complete, you answered {score} questions correctly!\")\n",
        "\n",
        "print(\"-------------\")"
      ]
    }
  ],
  "metadata": {
    "colab": {
      "provenance": [],
      "authorship_tag": "ABX9TyNz1zm6bhqi8pWuSi5vNyFx",
      "include_colab_link": true
    },
    "kernelspec": {
      "display_name": "Python 3",
      "name": "python3"
    },
    "language_info": {
      "name": "python"
    }
  },
  "nbformat": 4,
  "nbformat_minor": 0
}